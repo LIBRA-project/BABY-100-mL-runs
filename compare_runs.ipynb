{
 "cells": [
  {
   "cell_type": "code",
   "execution_count": 1,
   "metadata": {},
   "outputs": [],
   "source": [
    "import numpy as np\n",
    "import matplotlib.pyplot as plt\n",
    "from labellines import labelLine, labelLines\n",
    "from simple_tritium_transport_model import Model, ureg, quantity_to_activity\n",
    "from baby_run_3 import *\n",
    "from baby_run_4 import *\n",
    "from baby_run_5 import *\n",
    "\n",
    "ureg.mpl_formatter = \"{:~P}\"\n",
    "\n",
    "COLLECTION_VOLUME = 10 * ureg.ml\n",
    "LSC_SAMPLE_VOLUME = 10 * ureg.ml"
   ]
  },
  {
   "cell_type": "code",
   "execution_count": 2,
   "metadata": {},
   "outputs": [
    {
     "name": "stderr",
     "output_type": "stream",
     "text": [
      "/home/remidm/.local/lib/python3.10/site-packages/scipy/optimize/_minpack_py.py:224: UnitStrippedWarning: The unit of the quantity is stripped when downcasting to ndarray.\n",
      "  x0 = asarray(x0).flatten()\n",
      "/home/remidm/.local/lib/python3.10/site-packages/scipy/optimize/_minpack_py.py:239: UnitStrippedWarning: The unit of the quantity is stripped when downcasting to ndarray.\n",
      "  retval = _minpack._hybrd(func, x0, args, 1, xtol, maxfev,\n",
      "/home/remidm/.local/lib/python3.10/site-packages/scipy/optimize/_minpack_py.py:177: RuntimeWarning: The iteration is not making good progress, as measured by the \n",
      "  improvement from the last ten iterations.\n",
      "  warnings.warn(msg, RuntimeWarning)\n"
     ]
    }
   ],
   "source": [
    "import baby_run_3\n",
    "model_run_3 = baby_run_3.baby_model\n",
    "model_run_3.run(6 * ureg.day)\n"
   ]
  },
  {
   "cell_type": "code",
   "execution_count": 3,
   "metadata": {},
   "outputs": [],
   "source": [
    "import baby_run_5\n",
    "model_run_5 = baby_run_5.baby_model\n",
    "\n",
    "model_run_5.run(7 * ureg.day)"
   ]
  },
  {
   "cell_type": "code",
   "execution_count": 4,
   "metadata": {},
   "outputs": [],
   "source": [
    "replacement_times_run_3 = [1, 2, 4] * ureg.day\n",
    "\n",
    "replacement_times_run_5 = [\n",
    "    # 12/05 22:58\n",
    "    0 * ureg.day + 13 * ureg.hour + 28 * ureg.minute,\n",
    "    # 12/06 09:09\n",
    "    0 * ureg.day + 23 * ureg.hour + 39 * ureg.minute,\n",
    "    # 12/06 21:58 \n",
    "    1 * ureg.day + 12 * ureg.hour + 28 * ureg.minute,\n",
    "    # 12/07 11:19\n",
    "    1 * ureg.day + 25 * ureg.hour + 49 * ureg.minute,\n",
    "    # 12/08 09:53\n",
    "    2 * ureg.day + 24 * ureg.hour + 23 * ureg.minute,\n",
    "    # 12/09 08:28\n",
    "    3 * ureg.day + 22 * ureg.hour + 58 * ureg.minute,\n",
    "    # 12/11 12:48\n",
    "    6 * ureg.day + 3 * ureg.hour + 18 * ureg.minute,\n",
    "]"
   ]
  },
  {
   "cell_type": "code",
   "execution_count": 5,
   "metadata": {},
   "outputs": [],
   "source": [
    "m = baby_run_5.measurements_after_background_sub\n",
    "sample_1 = sum(list(m[1].values()))\n",
    "sample_2 = sum(list(m[2].values()))\n",
    "sample_3 = sum(list(m[3].values()))\n",
    "sample_4 = sum(list(m[4].values()))\n",
    "sample_5 = sum(list(m[5].values()))\n",
    "sample_6 = sum(list(m[6].values()))\n",
    "sample_7 = sum(list(m[7].values()))\n",
    "\n",
    "cumulative_1 = sample_1\n",
    "cumulative_2 = cumulative_1 + sample_2\n",
    "cumulative_3 = cumulative_2 + sample_3\n",
    "cumulative_4 = cumulative_3 + sample_4\n",
    "cumulative_5 = cumulative_4 + sample_5\n",
    "cumulative_6 = cumulative_5 + sample_6\n",
    "\n",
    "cumulative_7 = cumulative_6 + sample_7\n",
    "\n",
    "\n",
    "cumulative_values_run_5 = [cumulative_1, cumulative_2, cumulative_3, cumulative_4, cumulative_5, cumulative_6, cumulative_7]"
   ]
  },
  {
   "cell_type": "code",
   "execution_count": 6,
   "metadata": {},
   "outputs": [],
   "source": [
    "cumulative_1 = vial_311 + vial_312 + vial_313 + vial_314\n",
    "cumulative_2 = cumulative_1 + vial_321 + vial_322 + vial_323 + vial_324\n",
    "cumulative_3 = cumulative_2 + vial_331 + vial_332 + vial_333 + vial_334\n",
    "\n",
    "cumulative_values_run_3 = [cumulative_1, cumulative_2, cumulative_3]"
   ]
  },
  {
   "cell_type": "code",
   "execution_count": 7,
   "metadata": {},
   "outputs": [],
   "source": [
    "import baby_run_4\n",
    "model_run_4 = baby_run_4.baby_model\n",
    "model_run_4.run(6 * ureg.day)"
   ]
  },
  {
   "cell_type": "code",
   "execution_count": 8,
   "metadata": {},
   "outputs": [],
   "source": [
    "m = baby_run_4.measurements_after_background_sub\n",
    "sample_1 = sum(list(m[2].values()))\n",
    "sample_2 = sum(list(m[3].values()))\n",
    "sample_3 = sum(list(m[4].values()))\n",
    "sample_4 = sum(list(m[5].values()))\n",
    "sample_5 = sum(list(m[6].values()))\n",
    "sample_6 = sum(list(m[7].values()))\n",
    "sample_7 = sum(list(m[8].values()))\n",
    "\n",
    "# sample_1 += 0.5/2 * sample_5\n",
    "# sample_2 += 0.5/2 * sample_5\n",
    "# sample_5 *= 0.5\n",
    "\n",
    "\n",
    "cumulative_1 = sample_1\n",
    "cumulative_2 = cumulative_1 + sample_2\n",
    "cumulative_3 = cumulative_2 + sample_3\n",
    "cumulative_4 = cumulative_3 + sample_4\n",
    "cumulative_5 = cumulative_4 + sample_5\n",
    "cumulative_6 = cumulative_5 + sample_6\n",
    "cumulative_7 = cumulative_6 + sample_7\n",
    "\n",
    "\n",
    "cumulative_values_run_4 = [cumulative_1, cumulative_2, cumulative_3, cumulative_4, cumulative_5, cumulative_6, cumulative_7]"
   ]
  },
  {
   "cell_type": "code",
   "execution_count": 9,
   "metadata": {},
   "outputs": [],
   "source": [
    "replacement_times_run_4 = [\n",
    "    irr[0] for irr in model_run_4.irradiations[1:]\n",
    "]  # before each irradiation\n",
    "\n",
    "replacement_times_run_4 += [\n",
    "    irr[1] for irr in model_run_4.irradiations\n",
    "]  # after each irradiation\n",
    "\n",
    "replacement_times_run_4.append(2 * ureg.day)  # after the last irradiation\n",
    "replacement_times_run_4.append(3 * ureg.day)\n",
    "replacement_times_run_4.append(4 * ureg.day)\n",
    "replacement_times_run_4.append(6 * ureg.day)\n",
    "\n",
    "replacement_times_run_4 = sorted(replacement_times_run_4)"
   ]
  },
  {
   "cell_type": "code",
   "execution_count": 10,
   "metadata": {},
   "outputs": [
    {
     "name": "stderr",
     "output_type": "stream",
     "text": [
      "/home/remidm/.local/lib/python3.10/site-packages/scipy/integrate/_quadrature.py:448: UnitStrippedWarning: The unit of the quantity is stripped when downcasting to ndarray.\n",
      "  y = np.asarray(y)\n",
      "/home/remidm/.local/lib/python3.10/site-packages/scipy/integrate/_quadrature.py:452: UnitStrippedWarning: The unit of the quantity is stripped when downcasting to ndarray.\n",
      "  x = np.asarray(x)\n"
     ]
    },
    {
     "data": {
      "image/png": "[encoded data removed]",
      "text/plain": [
       "<Figure size 640x480 with 1 Axes>"
      ]
     },
     "metadata": {},
     "output_type": "display_data"
    }
   ],
   "source": [
    "plt.figure()\n",
    "\n",
    "irradiations = [(0 * ureg.day, 12 * ureg.hour), (24 * ureg.hour, 36 * ureg.hour)]\n",
    "\n",
    "for irr in irradiations:\n",
    "    plt.axvspan(\n",
    "        irr[0].to(ureg.day),\n",
    "        irr[1].to(ureg.day),\n",
    "        facecolor=\"#EF5B5B\",\n",
    "        alpha=0.5,\n",
    "    )\n",
    "\n",
    "color_run_3 = \"tab:blue\"\n",
    "color_run_4 = \"tab:red\"\n",
    "color_run_5 = \"tab:orange\"\n",
    "\n",
    "integrated_top_run_3 = quantity_to_activity(model_run_3.integrated_release_top()).to(\n",
    "            ureg.Bq\n",
    "        )\n",
    "plt.plot(model_run_3.times.to(ureg.day), integrated_top_run_3, color=color_run_3, label=\"Run #3\")\n",
    "\n",
    "plt.scatter(\n",
    "    replacement_times_run_3,\n",
    "    cumulative_values_run_3,\n",
    "    s=70,\n",
    "    color=color_run_3\n",
    ")\n",
    "\n",
    "integrated_top_run_5 = quantity_to_activity(model_run_5.integrated_release_top()).to(\n",
    "            ureg.Bq\n",
    "        )\n",
    "plt.plot(model_run_5.times.to(ureg.day), integrated_top_run_5, color=color_run_5, label=\"Run #5\")\n",
    "\n",
    "plt.scatter(\n",
    "    replacement_times_run_5,\n",
    "    cumulative_values_run_5,\n",
    "    s=70,\n",
    "    color=color_run_5\n",
    ")\n",
    "\n",
    "plt.scatter(\n",
    "    replacement_times_run_4,\n",
    "    cumulative_values_run_4,\n",
    "    s=70,\n",
    "    color=color_run_4\n",
    ")\n",
    "\n",
    "plt.annotate(\"Run #4\", (6 * ureg.days, 18 * ureg.Bq), color=color_run_4)\n",
    "\n",
    "plt.xlim(left=0 * ureg.day)\n",
    "plt.ylim(bottom=0)\n",
    "plt.gca().spines[[\"right\", \"top\"]].set_visible(False)\n",
    "plt.grid(alpha=0.5)\n",
    "labelLines(plt.gca().get_lines(), zorder=2.5)\n",
    "# plt.gcf().text(0.08, 0.97, \"Cumulative tritium release\", weight=\"bold\", fontsize=15)\n",
    "# axis below graph\n",
    "plt.gca().set_axisbelow(True)\n",
    "plt.savefig(\"cumulative_release_compare_runs.pdf\")"
   ]
  },
  {
   "cell_type": "code",
   "execution_count": 11,
   "metadata": {},
   "outputs": [
    {
     "name": "stdout",
     "output_type": "stream",
     "text": [
      "1.47e-06 meter / second\n",
      "1.0289999999999998e-06 meter / second\n",
      "146440.8 particle / second\n",
      "193365.84 particle / second\n"
     ]
    }
   ],
   "source": [
    "print(model_run_3.k_top)\n",
    "print(model_run_5.k_top)\n",
    "\n",
    "print(model_run_3.neutron_rate * model_run_3.TBR)\n",
    "print(model_run_5.neutron_rate * model_run_5.TBR)"
   ]
  }
 ],
 "metadata": {
  "kernelspec": {
   "display_name": "Python 3",
   "language": "python",
   "name": "python3"
  },
  "language_info": {
   "codemirror_mode": {
    "name": "ipython",
    "version": 3
   },
   "file_extension": ".py",
   "mimetype": "text/x-python",
   "name": "python",
   "nbconvert_exporter": "python",
   "pygments_lexer": "ipython3",
   "version": "3.10.12"
  }
 },
 "nbformat": 4,
 "nbformat_minor": 2
}
